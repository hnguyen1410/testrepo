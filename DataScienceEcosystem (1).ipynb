{
 "cells": [
  {
   "cell_type": "markdown",
   "id": "61ac58a9-adbc-402a-8bd4-8708ee8ce790",
   "metadata": {},
   "source": [
    "# Data Science Tools and Ecosystem\n"
   ]
  },
  {
   "cell_type": "markdown",
   "id": "aeecabdd-a6f9-4ec2-b001-597d3248dbe4",
   "metadata": {},
   "source": [
    "In this notebook, Data Science Tools and Ecosystem are summarized"
   ]
  },
  {
   "cell_type": "markdown",
   "id": "08ec18d8-bee0-41f3-9a04-01de867f7ac0",
   "metadata": {},
   "source": [
    "Some of the popular languages that Data Scientist use are:"
   ]
  },
  {
   "cell_type": "markdown",
   "id": "27bb7178-4b8d-44a4-a5cc-dc9c12281d22",
   "metadata": {},
   "source": [
    "1. Python\n",
    "2. R\n",
    "3. Julia\n"
   ]
  },
  {
   "cell_type": "markdown",
   "id": "ef79d166-c92d-40ac-93d1-3d08f1f88887",
   "metadata": {},
   "source": [
    "Some of the commonly used libraries used by Data Scientists include:"
   ]
  },
  {
   "cell_type": "markdown",
   "id": "dacfbddb-f704-4b2d-acf5-e0340c2138da",
   "metadata": {
    "tags": []
   },
   "source": [
    "- NumPy\n",
    "- Pandas\n",
    "- TensorFlow"
   ]
  },
  {
   "cell_type": "markdown",
   "id": "7771124c-7d2d-4b9d-8eff-9cf1e7e4285b",
   "metadata": {},
   "source": [
    "| Data Science Tools |\n",
    "| -------------| \n",
    "| JupyterLab | \n",
    "| Apache Zeppelin | \n",
    "| RStudio | "
   ]
  },
  {
   "cell_type": "markdown",
   "id": "749107b7-eb0e-4721-9d13-2ea99fc193c1",
   "metadata": {},
   "source": [
    "### Below are a few examples of evaluating arithmetic expressions in Python:\n"
   ]
  },
  {
   "cell_type": "code",
   "execution_count": 2,
   "id": "1052d3fe-adaf-4f3c-adbf-058e2e4d93b8",
   "metadata": {
    "tags": []
   },
   "outputs": [
    {
     "data": {
      "text/plain": [
       "17"
      ]
     },
     "execution_count": 2,
     "metadata": {},
     "output_type": "execute_result"
    }
   ],
   "source": [
    "(3*4)+5"
   ]
  },
  {
   "cell_type": "markdown",
   "id": "8b4da8ff-7fc6-476f-b5fe-27ca18fac681",
   "metadata": {},
   "source": [
    "This a simple arithmetic expression to multiply then add integers"
   ]
  },
  {
   "cell_type": "code",
   "execution_count": 3,
   "id": "ef0eb4e1-53cf-4bf0-8f4e-5d9b623cdeb1",
   "metadata": {
    "tags": []
   },
   "outputs": [
    {
     "data": {
      "text/plain": [
       "3.3333333333333335"
      ]
     },
     "execution_count": 3,
     "metadata": {},
     "output_type": "execute_result"
    }
   ],
   "source": [
    "200/60"
   ]
  },
  {
   "cell_type": "markdown",
   "id": "1a8dd5bf-3afe-4a74-81df-ba5e604fe600",
   "metadata": {},
   "source": [
    "This will convert 200 minutes to hours by diving by 60"
   ]
  },
  {
   "cell_type": "markdown",
   "id": "e092d2a6-c539-4107-aa3f-bbdd287f2b04",
   "metadata": {
    "tags": []
   },
   "source": [
    "**Objectives:**"
   ]
  },
  {
   "cell_type": "markdown",
   "id": "3317a0f6-865f-4003-887f-f9e35b8ed641",
   "metadata": {},
   "source": [
    "- List popular languages for Data Science\n",
    "- List commonly used libraries for Data Science\n",
    "- Examples of evaluating arithmetic expressions in Python"
   ]
  },
  {
   "cell_type": "markdown",
   "id": "3e605bdc-e38e-4256-a51f-7edd7b535f14",
   "metadata": {},
   "source": [
    "## Author\n",
    "Hoang Minh Nhut Nguyen"
   ]
  }
 ],
 "metadata": {
  "kernelspec": {
   "display_name": "Python",
   "language": "python",
   "name": "conda-env-python-py"
  },
  "language_info": {
   "codemirror_mode": {
    "name": "ipython",
    "version": 3
   },
   "file_extension": ".py",
   "mimetype": "text/x-python",
   "name": "python",
   "nbconvert_exporter": "python",
   "pygments_lexer": "ipython3",
   "version": "3.7.12"
  }
 },
 "nbformat": 4,
 "nbformat_minor": 5
}
